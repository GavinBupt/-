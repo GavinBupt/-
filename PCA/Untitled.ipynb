{
 "cells": [
  {
   "cell_type": "code",
   "execution_count": 3,
   "metadata": {},
   "outputs": [
    {
     "data": {
      "image/png": "[encoded data removed]",
      "text/plain": [
       "<matplotlib.figure.Figure at 0x20db9b0fb38>"
      ]
     },
     "metadata": {},
     "output_type": "display_data"
    }
   ],
   "source": [
    "from numpy import *\n",
    "import matplotlib\n",
    "import matplotlib.pyplot as plt\n",
    "\n",
    "n = 1000 #number of points to create\n",
    "xcord0 = []; ycord0 = []\n",
    "xcord1 = []; ycord1 = []\n",
    "xcord2 = []; ycord2 = []\n",
    "markers =[]\n",
    "colors =[]\n",
    "fw = open('testSet3.txt','w')\n",
    "for i in range(n):\n",
    "    groupNum = int(3*random.uniform())\n",
    "    [r0,r1] = random.standard_normal(2)\n",
    "    if groupNum == 0:\n",
    "        x = r0 + 16.0\n",
    "        y = 1.0*r1 + x\n",
    "        xcord0.append(x)\n",
    "        ycord0.append(y)\n",
    "    elif groupNum == 1:\n",
    "        x = r0 + 8.0\n",
    "        y = 1.0*r1 + x\n",
    "        xcord1.append(x)\n",
    "        ycord1.append(y)\n",
    "    elif groupNum == 2:\n",
    "        x = r0 + 0.0\n",
    "        y = 1.0*r1 + x\n",
    "        xcord2.append(x)\n",
    "        ycord2.append(y)\n",
    "    fw.write(\"%f\\t%f\\t%d\\n\" % (x, y, groupNum))\n",
    "\n",
    "fw.close()\n",
    "fig = plt.figure()\n",
    "ax = fig.add_subplot(211)\n",
    "ax.scatter(xcord0,ycord0, marker='^', s=90)\n",
    "ax.scatter(xcord1,ycord1, marker='o', s=50,  c='red')\n",
    "ax.scatter(xcord2,ycord2, marker='v', s=50,  c='yellow')\n",
    "ax = fig.add_subplot(212)\n",
    "'''\n",
    "myDat = pca.loadDataSet('testSet3.txt')\n",
    "lowDDat,reconDat = pca.pca(myDat[:,0:2],1)\n",
    "label0Mat = lowDDat[nonzero(myDat[:,2]==0)[0],:2][0] #get the items with label 0\n",
    "label1Mat = lowDDat[nonzero(myDat[:,2]==1)[0],:2][0] #get the items with label 1\n",
    "label2Mat = lowDDat[nonzero(myDat[:,2]==2)[0],:2][0] #get the items with label 2\n",
    "#ax.scatter(label0Mat[:,0],label0Mat[:,1], marker='^', s=90)\n",
    "#ax.scatter(label1Mat[:,0],label1Mat[:,1], marker='o', s=50,  c='red')\n",
    "#ax.scatter(label2Mat[:,0],label2Mat[:,1], marker='v', s=50,  c='yellow')\n",
    "ax.scatter(label0Mat[:,0],zeros(shape(label0Mat)[0]), marker='^', s=90)\n",
    "ax.scatter(label1Mat[:,0],zeros(shape(label1Mat)[0]), marker='o', s=50,  c='red')\n",
    "ax.scatter(label2Mat[:,0],zeros(shape(label2Mat)[0]), marker='v', s=50,  c='yellow')\n",
    "'''\n",
    "plt.show()"
   ]
  },
  {
   "cell_type": "code",
   "execution_count": null,
   "metadata": {},
   "outputs": [],
   "source": []
  }
 ],
 "metadata": {
  "kernelspec": {
   "display_name": "Python 3",
   "language": "python",
   "name": "python3"
  },
  "language_info": {
   "codemirror_mode": {
    "name": "ipython",
    "version": 3
   },
   "file_extension": ".py",
   "mimetype": "text/x-python",
   "name": "python",
   "nbconvert_exporter": "python",
   "pygments_lexer": "ipython3",
   "version": "3.6.4"
  },
  "toc": {
   "base_numbering": 1,
   "nav_menu": {},
   "number_sections": true,
   "sideBar": true,
   "skip_h1_title": false,
   "title_cell": "Table of Contents",
   "title_sidebar": "Contents",
   "toc_cell": false,
   "toc_position": {},
   "toc_section_display": true,
   "toc_window_display": false
  }
 },
 "nbformat": 4,
 "nbformat_minor": 2
}
